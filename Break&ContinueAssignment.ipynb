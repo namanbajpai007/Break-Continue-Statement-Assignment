{
 "cells": [
  {
   "cell_type": "code",
   "execution_count": 1,
   "id": "82fbb7d6",
   "metadata": {},
   "outputs": [
    {
     "name": "stdout",
     "output_type": "stream",
     "text": [
      "1\n",
      "2\n",
      "3\n",
      "4\n"
     ]
    }
   ],
   "source": [
    "# Write a program to print numbers 1 to 10 ,but stop if the number is 5\n",
    "\n",
    "# Iterate over numbers from 1 to 10\n",
    "for i in range(1, 11):\n",
    "    # Check if the number is 5\n",
    "    if i == 5:\n",
    "        break  # Exit the loop if the number is 5\n",
    "    print(i)"
   ]
  },
  {
   "cell_type": "code",
   "execution_count": 2,
   "id": "a8eb279e",
   "metadata": {},
   "outputs": [
    {
     "name": "stdout",
     "output_type": "stream",
     "text": [
      "apple\n",
      "banana\n"
     ]
    }
   ],
   "source": [
    "# Write a program to iterate through a list and to stop when encountering a specific element \n",
    "\n",
    "# Define another list\n",
    "my_list = ['apple', 'banana', 'orange', 'grape', 'watermelon']\n",
    "\n",
    "# Define the specific element to stop at\n",
    "stop_element = 'orange'\n",
    "\n",
    "# Iterate over the list\n",
    "for fruit in my_list:\n",
    "    # Check if the current element is the stop element\n",
    "    if fruit == stop_element:\n",
    "        break  # Exit the loop if the stop element is encountered\n",
    "    print(fruit)"
   ]
  },
  {
   "cell_type": "code",
   "execution_count": 3,
   "id": "ca9c0f8c",
   "metadata": {},
   "outputs": [
    {
     "name": "stdout",
     "output_type": "stream",
     "text": [
      "1\n",
      "3\n",
      "5\n",
      "7\n",
      "9\n"
     ]
    }
   ],
   "source": [
    "# Write a program to skip printing even numbers from 1 to 10 \n",
    "\n",
    "# Iterate over numbers from 1 to 10\n",
    "for i in range(1, 11):\n",
    "    # Check if the number is even\n",
    "    if i % 2 == 0:\n",
    "        continue  # Skip the even number and continue to the next iteration\n",
    "    print(i)"
   ]
  },
  {
   "cell_type": "code",
   "execution_count": 4,
   "id": "e5c491c6",
   "metadata": {},
   "outputs": [
    {
     "name": "stdout",
     "output_type": "stream",
     "text": [
      "0\n",
      "1\n",
      "2\n",
      "3\n",
      "4\n",
      "5\n",
      "6\n",
      "7\n",
      "8\n",
      "9\n"
     ]
    }
   ],
   "source": [
    "# Write a program to print numbers from 0 to 9 using range\n",
    "for i in range(0,10):\n",
    "    print(i)"
   ]
  },
  {
   "cell_type": "code",
   "execution_count": 5,
   "id": "443fdfce",
   "metadata": {},
   "outputs": [
    {
     "name": "stdout",
     "output_type": "stream",
     "text": [
      "Multiplication table for 1:\n",
      "1 x 1 = 1\n",
      "1 x 2 = 2\n",
      "1 x 3 = 3\n",
      "1 x 4 = 4\n",
      "1 x 5 = 5\n",
      "1 x 6 = 6\n",
      "1 x 7 = 7\n",
      "1 x 8 = 8\n",
      "1 x 9 = 9\n",
      "1 x 10 = 10\n",
      "\n"
     ]
    }
   ],
   "source": [
    "# Write a program to print multiplication tables from  1 to 5 , but stop after the first table is printed for each number \n",
    "\n",
    "# Iterate over numbers from 1 to 5\n",
    "for i in range(1, 6):\n",
    "    print(f\"Multiplication table for {i}:\")\n",
    "    # Iterate over numbers from 1 to 10 for each number\n",
    "    for j in range(1, 11):\n",
    "        # Print the multiplication result\n",
    "        print(f\"{i} x {j} = {i * j}\")\n",
    "    print()  # Print an empty line to separate tables\n",
    "    break    # Stop after printing the first table for each number"
   ]
  },
  {
   "cell_type": "code",
   "execution_count": 6,
   "id": "3f301fac",
   "metadata": {},
   "outputs": [
    {
     "name": "stdout",
     "output_type": "stream",
     "text": [
      "1\n",
      "3\n",
      "5\n",
      "7\n",
      "9\n"
     ]
    }
   ],
   "source": [
    "# Write a program to skip printing even numbers using a while loop \n",
    "\n",
    "# Initializing the number to start with\n",
    "number = 0\n",
    "\n",
    "# Defining the limit\n",
    "limit = 10\n",
    "\n",
    "# Use a while loop to iterate through numbers from 0 to 9\n",
    "while number < limit:\n",
    "    # Checking if the number is even\n",
    "    if number % 2 == 0:\n",
    "        # If it's even, skip printing and move to the next number\n",
    "        number += 1\n",
    "        continue\n",
    "    # If it's odd, print the number\n",
    "    print(number)\n",
    "    # Move to the next number\n",
    "    number += 1"
   ]
  },
  {
   "cell_type": "code",
   "execution_count": null,
   "id": "880ad9c6",
   "metadata": {},
   "outputs": [],
   "source": []
  }
 ],
 "metadata": {
  "kernelspec": {
   "display_name": "Python 3 (ipykernel)",
   "language": "python",
   "name": "python3"
  },
  "language_info": {
   "codemirror_mode": {
    "name": "ipython",
    "version": 3
   },
   "file_extension": ".py",
   "mimetype": "text/x-python",
   "name": "python",
   "nbconvert_exporter": "python",
   "pygments_lexer": "ipython3",
   "version": "3.11.5"
  }
 },
 "nbformat": 4,
 "nbformat_minor": 5
}
